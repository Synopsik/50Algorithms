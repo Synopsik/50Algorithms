{
 "cells": [
  {
   "metadata": {
    "ExecuteTime": {
     "end_time": "2025-05-08T21:54:27.285145Z",
     "start_time": "2025-05-08T21:54:27.282151Z"
    }
   },
   "cell_type": "code",
   "source": [
    "class Stack:\n",
    "    def __init__(self):\n",
    "        self.items = []\n",
    "    # Util\n",
    "    def isEmpty(self):\n",
    "        return self.items == []\n",
    "    def size(self):\n",
    "        return len(self.items)\n",
    "    def peek(self):\n",
    "        return self.items[len(self.items)-1]\n",
    "    # Stack\n",
    "    def push(self, item):\n",
    "        self.items.append(item)\n",
    "    def pop(self):\n",
    "        return self.items.pop()\n",
    "    # Queueing\n",
    "    def enqueue(self, item):\n",
    "        self.items.insert(0,item)\n",
    "    def dequeue(self):\n",
    "        return self.items.pop()\n"
   ],
   "id": "e28973b59b9847fb",
   "outputs": [],
   "execution_count": 61
  },
  {
   "metadata": {
    "ExecuteTime": {
     "end_time": "2025-05-08T21:54:28.323351Z",
     "start_time": "2025-05-08T21:54:28.320881Z"
    }
   },
   "cell_type": "code",
   "source": "stack = Stack()",
   "id": "ccbee2eb24a552c4",
   "outputs": [],
   "execution_count": 62
  },
  {
   "metadata": {
    "ExecuteTime": {
     "end_time": "2025-05-08T21:54:31.162176Z",
     "start_time": "2025-05-08T21:54:31.160068Z"
    }
   },
   "cell_type": "code",
   "source": [
    "stack.push('Red')\n",
    "stack.push('Green')\n",
    "stack.push('Blue')\n",
    "stack.push('Yellow')"
   ],
   "id": "e57d66ec476803bd",
   "outputs": [],
   "execution_count": 63
  },
  {
   "metadata": {
    "ExecuteTime": {
     "end_time": "2025-05-08T21:54:32.115175Z",
     "start_time": "2025-05-08T21:54:32.112523Z"
    }
   },
   "cell_type": "code",
   "source": [
    "print(stack.items)\n",
    "for x in range(stack.size()):\n",
    "    print(stack.pop())"
   ],
   "id": "4aff63f4b0ef887d",
   "outputs": [
    {
     "name": "stdout",
     "output_type": "stream",
     "text": [
      "['Red', 'Green', 'Blue', 'Yellow']\n",
      "Yellow\n",
      "Blue\n",
      "Green\n",
      "Red\n"
     ]
    }
   ],
   "execution_count": 64
  },
  {
   "metadata": {
    "ExecuteTime": {
     "end_time": "2025-05-08T21:54:33.381310Z",
     "start_time": "2025-05-08T21:54:33.378297Z"
    }
   },
   "cell_type": "code",
   "source": [
    "stack.enqueue('Red')\n",
    "stack.enqueue('Green')\n",
    "stack.enqueue('Blue')\n",
    "stack.enqueue('Yellow')"
   ],
   "id": "4e8e41a3441ba10",
   "outputs": [],
   "execution_count": 65
  },
  {
   "metadata": {
    "ExecuteTime": {
     "end_time": "2025-05-08T21:54:34.283328Z",
     "start_time": "2025-05-08T21:54:34.280507Z"
    }
   },
   "cell_type": "code",
   "source": [
    "print(stack.items)\n",
    "for x in range(stack.size()):\n",
    "    print(stack.dequeue())"
   ],
   "id": "65de59c619023b6c",
   "outputs": [
    {
     "name": "stdout",
     "output_type": "stream",
     "text": [
      "['Yellow', 'Blue', 'Green', 'Red']\n",
      "Red\n",
      "Green\n",
      "Blue\n",
      "Yellow\n"
     ]
    }
   ],
   "execution_count": 66
  },
  {
   "metadata": {},
   "cell_type": "code",
   "outputs": [],
   "execution_count": null,
   "source": "",
   "id": "294bd6e2e87c88f"
  }
 ],
 "metadata": {
  "kernelspec": {
   "display_name": "Python 3",
   "language": "python",
   "name": "python3"
  },
  "language_info": {
   "codemirror_mode": {
    "name": "ipython",
    "version": 2
   },
   "file_extension": ".py",
   "mimetype": "text/x-python",
   "name": "python",
   "nbconvert_exporter": "python",
   "pygments_lexer": "ipython2",
   "version": "2.7.6"
  }
 },
 "nbformat": 4,
 "nbformat_minor": 5
}
